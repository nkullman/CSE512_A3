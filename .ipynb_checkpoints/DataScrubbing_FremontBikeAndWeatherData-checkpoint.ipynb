{
 "cells": [
  {
   "cell_type": "code",
   "execution_count": 135,
   "metadata": {
    "collapsed": true
   },
   "outputs": [],
   "source": [
    "import pandas\n",
    "import numpy\n",
    "import pylab\n",
    "\n",
    "from pandas import *\n",
    "from pylab import *"
   ]
  },
  {
   "cell_type": "code",
   "execution_count": 137,
   "metadata": {
    "collapsed": false
   },
   "outputs": [],
   "source": [
    "# Read in raw weather CSV\n",
    "fwd = read_csv(\"FremontWeatherData_Daily_raw.csv\")"
   ]
  },
  {
   "cell_type": "code",
   "execution_count": 138,
   "metadata": {
    "collapsed": false
   },
   "outputs": [],
   "source": [
    "# Eliminate unnecessary columns: index ('unnamed...') and 'PDT'\n",
    "fwd = fwd.drop([\"Unnamed: 0\", \"PDT\"], axis=1)"
   ]
  },
  {
   "cell_type": "code",
   "execution_count": 139,
   "metadata": {
    "collapsed": false
   },
   "outputs": [],
   "source": [
    "# Convert \"Date\" to datetime format\n",
    "fwd[\"Date\"] = pandas.to_datetime(fwd[\"Date\"])"
   ]
  },
  {
   "cell_type": "code",
   "execution_count": 140,
   "metadata": {
    "collapsed": false
   },
   "outputs": [],
   "source": [
    "# Write formatted weather data to file\n",
    "fwd.to_csv('FremontWeatherData_Daily.csv')"
   ]
  },
  {
   "cell_type": "code",
   "execution_count": 141,
   "metadata": {
    "collapsed": false
   },
   "outputs": [],
   "source": [
    "# Desired end-result is merged dataset with bike and weather data\n",
    "# Weather data formatting is completed.\n",
    "# Now we begin formatting bike data.\n",
    "# Desired columns:\n",
    "    # \"Date\", \"Time\", \"Direction\", \"Count\"\n",
    "    \n",
    "\n",
    "# Import bike data...\n",
    "fbd = read_csv(\"Fremont_Bridge_Hourly_Bicycle_Counts_by_Month_October_2012_to_present.csv\")"
   ]
  },
  {
   "cell_type": "code",
   "execution_count": 142,
   "metadata": {
    "collapsed": false
   },
   "outputs": [],
   "source": [
    "# Split date into date and time columns\n",
    "fbd[\"Time\"] = fbd[\"Date\"].map(lambda x: x[x.index(\" \") + 1:])\n",
    "fbd[\"Date\"] = fbd[\"Date\"].map(lambda x: x[:x.index(\" \")])"
   ]
  },
  {
   "cell_type": "code",
   "execution_count": 143,
   "metadata": {
    "collapsed": true
   },
   "outputs": [],
   "source": [
    "# Reorder columns\n",
    "fbd = fbd[[\"Date\", \"Time\", \"Fremont Bridge NB\", \"Fremont Bridge SB\"]]"
   ]
  },
  {
   "cell_type": "code",
   "execution_count": 144,
   "metadata": {
    "collapsed": false
   },
   "outputs": [],
   "source": [
    "# Convert \"Date\" to datetime format\n",
    "fbd[\"Date\"] = pandas.to_datetime(fbd[\"Date\"])"
   ]
  },
  {
   "cell_type": "code",
   "execution_count": 145,
   "metadata": {
    "collapsed": false
   },
   "outputs": [],
   "source": [
    "# Melt the two count columns\n",
    "fbd = pandas.melt(fbd,\n",
    "                id_vars = ['Date', 'Time'],\n",
    "                var_name = 'Direction',\n",
    "                value_name = 'CyclistCount')"
   ]
  },
  {
   "cell_type": "code",
   "execution_count": 146,
   "metadata": {
    "collapsed": false
   },
   "outputs": [],
   "source": [
    "# Simplify the entries in the \"Direction\" column\n",
    "fbd[\"Direction\"] = fbd[\"Direction\"].map(lambda x: x[x.rfind(\" \"):])"
   ]
  },
  {
   "cell_type": "code",
   "execution_count": 150,
   "metadata": {
    "collapsed": false
   },
   "outputs": [],
   "source": [
    "# Formatting of bike data complete.\n",
    "# Dataframes ready for merge.\n",
    "fwabd = merge(fbd, fwd, on = \"Date\", how = \"inner\")"
   ]
  },
  {
   "cell_type": "code",
   "execution_count": null,
   "metadata": {
    "collapsed": true
   },
   "outputs": [],
   "source": [
    "# Write merged dataset to file:"
   ]
  }
 ],
 "metadata": {
  "kernelspec": {
   "display_name": "Python 2",
   "language": "python",
   "name": "python2"
  },
  "language_info": {
   "codemirror_mode": {
    "name": "ipython",
    "version": 2
   },
   "file_extension": ".py",
   "mimetype": "text/x-python",
   "name": "python",
   "nbconvert_exporter": "python",
   "pygments_lexer": "ipython2",
   "version": "2.7.9"
  }
 },
 "nbformat": 4,
 "nbformat_minor": 0
}
