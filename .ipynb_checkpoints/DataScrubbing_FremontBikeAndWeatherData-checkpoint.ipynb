{
 "cells": [
  {
   "cell_type": "code",
   "execution_count": 2,
   "metadata": {
    "collapsed": true
   },
   "outputs": [],
   "source": [
    "import pandas\n",
    "import numpy\n",
    "import pylab\n",
    "\n",
    "from pandas import *\n",
    "from pylab import *"
   ]
  },
  {
   "cell_type": "code",
   "execution_count": 78,
   "metadata": {
    "collapsed": false
   },
   "outputs": [],
   "source": [
    "# Read in raw weather CSV\n",
    "fwd = read_csv(\"FremontWeatherData_raw.csv\")"
   ]
  },
  {
   "cell_type": "code",
   "execution_count": 79,
   "metadata": {
    "collapsed": false
   },
   "outputs": [],
   "source": [
    "# Eliminate unnecessary columns: original index, timePDT, dateUTC, timePST\n",
    "fwd = fwd.drop([\"Unnamed: 0\", \"TimePDT\", \"DateUTC\", \"TimePST\"], axis=1)"
   ]
  },
  {
   "cell_type": "code",
   "execution_count": 80,
   "metadata": {
    "collapsed": false
   },
   "outputs": [],
   "source": [
    "# Create \"Date\" column from date stated in \"Time\" column\n",
    "fwd[\"Date\"] = fwd[\"Time\"].map(lambda x: x[:x.index(\" \")])"
   ]
  },
  {
   "cell_type": "code",
   "execution_count": 81,
   "metadata": {
    "collapsed": false
   },
   "outputs": [],
   "source": [
    "# Trim \"Time\" column to just show time\n",
    "fwd[\"Time\"] = fwd[\"Time\"].map(lambda x: x[x.index(\" \")+1:])"
   ]
  },
  {
   "cell_type": "code",
   "execution_count": 82,
   "metadata": {
    "collapsed": false
   },
   "outputs": [],
   "source": [
    "# Move \"Date\" to first column\n",
    "fwdCols = fwd.columns.tolist()\n",
    "fwdCols = fwdCols[-1:]+fwdCols[:-1]\n",
    "fwd = fwd[fwdCols]"
   ]
  },
  {
   "cell_type": "code",
   "execution_count": 76,
   "metadata": {
    "collapsed": false
   },
   "outputs": [
    {
     "data": {
      "text/html": [
       "<div style=\"max-height:1000px;max-width:1500px;overflow:auto;\">\n",
       "<table border=\"1\" class=\"dataframe\">\n",
       "  <thead>\n",
       "    <tr style=\"text-align: right;\">\n",
       "      <th></th>\n",
       "      <th>Date</th>\n",
       "      <th>Time</th>\n",
       "      <th>TemperatureF</th>\n",
       "      <th>Dew_PointF</th>\n",
       "      <th>Humidity</th>\n",
       "      <th>Sea_Level_PressureIn</th>\n",
       "      <th>VisibilityMPH</th>\n",
       "      <th>Wind_Direction</th>\n",
       "      <th>Wind_SpeedMPH</th>\n",
       "      <th>Gust_SpeedMPH</th>\n",
       "      <th>PrecipitationIn</th>\n",
       "      <th>Events</th>\n",
       "      <th>Conditions</th>\n",
       "      <th>WindDirDegrees</th>\n",
       "    </tr>\n",
       "  </thead>\n",
       "  <tbody>\n",
       "    <tr>\n",
       "      <th>0</th>\n",
       "      <td> 2012-10-01</td>\n",
       "      <td> 00:53:00</td>\n",
       "      <td> 55.0</td>\n",
       "      <td> 48.0</td>\n",
       "      <td> 77</td>\n",
       "      <td> 30.35</td>\n",
       "      <td> 10</td>\n",
       "      <td>   NW</td>\n",
       "      <td>  3.5</td>\n",
       "      <td> -</td>\n",
       "      <td>NaN</td>\n",
       "      <td> NaN</td>\n",
       "      <td> Clear</td>\n",
       "      <td> 320</td>\n",
       "    </tr>\n",
       "    <tr>\n",
       "      <th>1</th>\n",
       "      <td> 2012-10-01</td>\n",
       "      <td> 01:53:00</td>\n",
       "      <td> 54.0</td>\n",
       "      <td> 48.0</td>\n",
       "      <td> 80</td>\n",
       "      <td> 30.35</td>\n",
       "      <td> 10</td>\n",
       "      <td> Calm</td>\n",
       "      <td> Calm</td>\n",
       "      <td> -</td>\n",
       "      <td>NaN</td>\n",
       "      <td> NaN</td>\n",
       "      <td> Clear</td>\n",
       "      <td>   0</td>\n",
       "    </tr>\n",
       "    <tr>\n",
       "      <th>2</th>\n",
       "      <td> 2012-10-01</td>\n",
       "      <td> 02:53:00</td>\n",
       "      <td> 53.1</td>\n",
       "      <td> 48.0</td>\n",
       "      <td> 83</td>\n",
       "      <td> 30.34</td>\n",
       "      <td> 10</td>\n",
       "      <td> Calm</td>\n",
       "      <td> Calm</td>\n",
       "      <td> -</td>\n",
       "      <td>NaN</td>\n",
       "      <td> NaN</td>\n",
       "      <td> Clear</td>\n",
       "      <td>   0</td>\n",
       "    </tr>\n",
       "    <tr>\n",
       "      <th>3</th>\n",
       "      <td> 2012-10-01</td>\n",
       "      <td> 03:53:00</td>\n",
       "      <td> 52.0</td>\n",
       "      <td> 46.9</td>\n",
       "      <td> 83</td>\n",
       "      <td> 30.33</td>\n",
       "      <td> 10</td>\n",
       "      <td> Calm</td>\n",
       "      <td> Calm</td>\n",
       "      <td> -</td>\n",
       "      <td>NaN</td>\n",
       "      <td> NaN</td>\n",
       "      <td> Clear</td>\n",
       "      <td>   0</td>\n",
       "    </tr>\n",
       "    <tr>\n",
       "      <th>4</th>\n",
       "      <td> 2012-10-01</td>\n",
       "      <td> 04:53:00</td>\n",
       "      <td> 53.1</td>\n",
       "      <td> 46.9</td>\n",
       "      <td> 80</td>\n",
       "      <td> 30.32</td>\n",
       "      <td> 10</td>\n",
       "      <td> Calm</td>\n",
       "      <td> Calm</td>\n",
       "      <td> -</td>\n",
       "      <td>NaN</td>\n",
       "      <td> NaN</td>\n",
       "      <td> Clear</td>\n",
       "      <td>   0</td>\n",
       "    </tr>\n",
       "  </tbody>\n",
       "</table>\n",
       "</div>"
      ],
      "text/plain": [
       "         Date      Time  TemperatureF  Dew_PointF  Humidity  \\\n",
       "0  2012-10-01  00:53:00          55.0        48.0        77   \n",
       "1  2012-10-01  01:53:00          54.0        48.0        80   \n",
       "2  2012-10-01  02:53:00          53.1        48.0        83   \n",
       "3  2012-10-01  03:53:00          52.0        46.9        83   \n",
       "4  2012-10-01  04:53:00          53.1        46.9        80   \n",
       "\n",
       "   Sea_Level_PressureIn  VisibilityMPH Wind_Direction Wind_SpeedMPH  \\\n",
       "0                 30.35             10             NW           3.5   \n",
       "1                 30.35             10           Calm          Calm   \n",
       "2                 30.34             10           Calm          Calm   \n",
       "3                 30.33             10           Calm          Calm   \n",
       "4                 30.32             10           Calm          Calm   \n",
       "\n",
       "  Gust_SpeedMPH  PrecipitationIn Events Conditions  WindDirDegrees  \n",
       "0             -              NaN    NaN      Clear             320  \n",
       "1             -              NaN    NaN      Clear               0  \n",
       "2             -              NaN    NaN      Clear               0  \n",
       "3             -              NaN    NaN      Clear               0  \n",
       "4             -              NaN    NaN      Clear               0  "
      ]
     },
     "execution_count": 76,
     "metadata": {},
     "output_type": "execute_result"
    }
   ],
   "source": [
    "# Aggregate rows based on date\n"
   ]
  }
 ],
 "metadata": {
  "kernelspec": {
   "display_name": "Python 2",
   "language": "python",
   "name": "python2"
  },
  "language_info": {
   "codemirror_mode": {
    "name": "ipython",
    "version": 2
   },
   "file_extension": ".py",
   "mimetype": "text/x-python",
   "name": "python",
   "nbconvert_exporter": "python",
   "pygments_lexer": "ipython2",
   "version": "2.7.9"
  }
 },
 "nbformat": 4,
 "nbformat_minor": 0
}
